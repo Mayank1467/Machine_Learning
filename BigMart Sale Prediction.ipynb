{
 "cells": [
  {
   "cell_type": "code",
   "execution_count": 490,
   "id": "fa57f4e3-39ff-4504-b0ed-ff5f6a2a657c",
   "metadata": {
    "tags": []
   },
   "outputs": [],
   "source": [
    "import numpy as np\n",
    "import pandas as pd\n",
    "import matplotlib.pyplot as plt\n",
    "import seaborn as sns"
   ]
  },
  {
   "cell_type": "code",
   "execution_count": 491,
   "id": "29636fcd-48b0-4a32-89d5-f29bd0be6e1c",
   "metadata": {},
   "outputs": [],
   "source": [
    "# reading data\n",
    "BigMart = pd.read_csv('BigMart_Train.csv')"
   ]
  },
  {
   "cell_type": "markdown",
   "id": "c29eb1b8-a507-4c20-b4a5-9f7db349fc45",
   "metadata": {},
   "source": [
    "### Data Preprocessing"
   ]
  },
  {
   "cell_type": "code",
   "execution_count": 492,
   "id": "9aad54d2-6b31-48a8-9b89-8c434c978071",
   "metadata": {
    "tags": []
   },
   "outputs": [
    {
     "data": {
      "text/plain": [
       "(8523, 12)"
      ]
     },
     "execution_count": 492,
     "metadata": {},
     "output_type": "execute_result"
    }
   ],
   "source": [
    "# getting shape of the DataFrame\n",
    "BigMart.shape"
   ]
  },
  {
   "cell_type": "code",
   "execution_count": 493,
   "id": "4bc0c735-e617-4146-aa25-3a7180daf76b",
   "metadata": {
    "tags": []
   },
   "outputs": [
    {
     "data": {
      "text/plain": [
       "Index(['Item_Identifier', 'Item_Weight', 'Item_Fat_Content', 'Item_Visibility',\n",
       "       'Item_Type', 'Item_MRP', 'Outlet_Identifier',\n",
       "       'Outlet_Establishment_Year', 'Outlet_Size', 'Outlet_Location_Type',\n",
       "       'Outlet_Type', 'Item_Outlet_Sales'],\n",
       "      dtype='object')"
      ]
     },
     "execution_count": 493,
     "metadata": {},
     "output_type": "execute_result"
    }
   ],
   "source": [
    "# getting all the columns\n",
    "BigMart.columns"
   ]
  },
  {
   "cell_type": "code",
   "execution_count": 494,
   "id": "30934fed-6711-43a8-aa26-283b472bbbb4",
   "metadata": {
    "tags": []
   },
   "outputs": [
    {
     "name": "stdout",
     "output_type": "stream",
     "text": [
      "<class 'pandas.core.frame.DataFrame'>\n",
      "RangeIndex: 8523 entries, 0 to 8522\n",
      "Data columns (total 12 columns):\n",
      " #   Column                     Non-Null Count  Dtype  \n",
      "---  ------                     --------------  -----  \n",
      " 0   Item_Identifier            8523 non-null   object \n",
      " 1   Item_Weight                7060 non-null   float64\n",
      " 2   Item_Fat_Content           8523 non-null   object \n",
      " 3   Item_Visibility            8523 non-null   float64\n",
      " 4   Item_Type                  8523 non-null   object \n",
      " 5   Item_MRP                   8523 non-null   float64\n",
      " 6   Outlet_Identifier          8523 non-null   object \n",
      " 7   Outlet_Establishment_Year  8523 non-null   int64  \n",
      " 8   Outlet_Size                6113 non-null   object \n",
      " 9   Outlet_Location_Type       8523 non-null   object \n",
      " 10  Outlet_Type                8523 non-null   object \n",
      " 11  Item_Outlet_Sales          8523 non-null   float64\n",
      "dtypes: float64(4), int64(1), object(7)\n",
      "memory usage: 799.2+ KB\n"
     ]
    }
   ],
   "source": [
    "# checking for columns' dtype\n",
    "BigMart.info()"
   ]
  },
  {
   "cell_type": "code",
   "execution_count": 495,
   "id": "0cc3800a-2f62-4bca-99fc-cd447f56392b",
   "metadata": {
    "tags": []
   },
   "outputs": [
    {
     "data": {
      "text/html": [
       "<div>\n",
       "<style scoped>\n",
       "    .dataframe tbody tr th:only-of-type {\n",
       "        vertical-align: middle;\n",
       "    }\n",
       "\n",
       "    .dataframe tbody tr th {\n",
       "        vertical-align: top;\n",
       "    }\n",
       "\n",
       "    .dataframe thead th {\n",
       "        text-align: right;\n",
       "    }\n",
       "</style>\n",
       "<table border=\"1\" class=\"dataframe\">\n",
       "  <thead>\n",
       "    <tr style=\"text-align: right;\">\n",
       "      <th></th>\n",
       "      <th>Item_Weight</th>\n",
       "      <th>Item_Visibility</th>\n",
       "      <th>Item_MRP</th>\n",
       "      <th>Outlet_Establishment_Year</th>\n",
       "      <th>Item_Outlet_Sales</th>\n",
       "    </tr>\n",
       "  </thead>\n",
       "  <tbody>\n",
       "    <tr>\n",
       "      <th>count</th>\n",
       "      <td>7060.000000</td>\n",
       "      <td>8523.000000</td>\n",
       "      <td>8523.000000</td>\n",
       "      <td>8523.000000</td>\n",
       "      <td>8523.000000</td>\n",
       "    </tr>\n",
       "    <tr>\n",
       "      <th>mean</th>\n",
       "      <td>12.857645</td>\n",
       "      <td>0.066132</td>\n",
       "      <td>140.992782</td>\n",
       "      <td>1997.831867</td>\n",
       "      <td>2181.288914</td>\n",
       "    </tr>\n",
       "    <tr>\n",
       "      <th>std</th>\n",
       "      <td>4.643456</td>\n",
       "      <td>0.051598</td>\n",
       "      <td>62.275067</td>\n",
       "      <td>8.371760</td>\n",
       "      <td>1706.499616</td>\n",
       "    </tr>\n",
       "    <tr>\n",
       "      <th>min</th>\n",
       "      <td>4.555000</td>\n",
       "      <td>0.000000</td>\n",
       "      <td>31.290000</td>\n",
       "      <td>1985.000000</td>\n",
       "      <td>33.290000</td>\n",
       "    </tr>\n",
       "    <tr>\n",
       "      <th>10%</th>\n",
       "      <td>6.695000</td>\n",
       "      <td>0.012042</td>\n",
       "      <td>52.795600</td>\n",
       "      <td>1985.000000</td>\n",
       "      <td>343.552800</td>\n",
       "    </tr>\n",
       "    <tr>\n",
       "      <th>25%</th>\n",
       "      <td>8.773750</td>\n",
       "      <td>0.026989</td>\n",
       "      <td>93.826500</td>\n",
       "      <td>1987.000000</td>\n",
       "      <td>834.247400</td>\n",
       "    </tr>\n",
       "    <tr>\n",
       "      <th>50%</th>\n",
       "      <td>12.600000</td>\n",
       "      <td>0.053931</td>\n",
       "      <td>143.012800</td>\n",
       "      <td>1999.000000</td>\n",
       "      <td>1794.331000</td>\n",
       "    </tr>\n",
       "    <tr>\n",
       "      <th>75%</th>\n",
       "      <td>16.850000</td>\n",
       "      <td>0.094585</td>\n",
       "      <td>185.643700</td>\n",
       "      <td>2004.000000</td>\n",
       "      <td>3101.296400</td>\n",
       "    </tr>\n",
       "    <tr>\n",
       "      <th>90%</th>\n",
       "      <td>19.350000</td>\n",
       "      <td>0.139514</td>\n",
       "      <td>231.200480</td>\n",
       "      <td>2009.000000</td>\n",
       "      <td>4570.051200</td>\n",
       "    </tr>\n",
       "    <tr>\n",
       "      <th>max</th>\n",
       "      <td>21.350000</td>\n",
       "      <td>0.328391</td>\n",
       "      <td>266.888400</td>\n",
       "      <td>2009.000000</td>\n",
       "      <td>13086.964800</td>\n",
       "    </tr>\n",
       "  </tbody>\n",
       "</table>\n",
       "</div>"
      ],
      "text/plain": [
       "       Item_Weight  Item_Visibility     Item_MRP  Outlet_Establishment_Year  \\\n",
       "count  7060.000000      8523.000000  8523.000000                8523.000000   \n",
       "mean     12.857645         0.066132   140.992782                1997.831867   \n",
       "std       4.643456         0.051598    62.275067                   8.371760   \n",
       "min       4.555000         0.000000    31.290000                1985.000000   \n",
       "10%       6.695000         0.012042    52.795600                1985.000000   \n",
       "25%       8.773750         0.026989    93.826500                1987.000000   \n",
       "50%      12.600000         0.053931   143.012800                1999.000000   \n",
       "75%      16.850000         0.094585   185.643700                2004.000000   \n",
       "90%      19.350000         0.139514   231.200480                2009.000000   \n",
       "max      21.350000         0.328391   266.888400                2009.000000   \n",
       "\n",
       "       Item_Outlet_Sales  \n",
       "count        8523.000000  \n",
       "mean         2181.288914  \n",
       "std          1706.499616  \n",
       "min            33.290000  \n",
       "10%           343.552800  \n",
       "25%           834.247400  \n",
       "50%          1794.331000  \n",
       "75%          3101.296400  \n",
       "90%          4570.051200  \n",
       "max         13086.964800  "
      ]
     },
     "execution_count": 495,
     "metadata": {},
     "output_type": "execute_result"
    }
   ],
   "source": [
    "# summarizing all the numeric columns\n",
    "BigMart.describe(percentiles=[0.1, 0.25, 0.5, 0.75, 0.9])"
   ]
  },
  {
   "cell_type": "code",
   "execution_count": 496,
   "id": "4205d500-2784-4796-a398-bbbb159a1866",
   "metadata": {
    "tags": []
   },
   "outputs": [
    {
     "data": {
      "text/plain": [
       "Item_Identifier                 0\n",
       "Item_Weight                  1463\n",
       "Item_Fat_Content                0\n",
       "Item_Visibility                 0\n",
       "Item_Type                       0\n",
       "Item_MRP                        0\n",
       "Outlet_Identifier               0\n",
       "Outlet_Establishment_Year       0\n",
       "Outlet_Size                  2410\n",
       "Outlet_Location_Type            0\n",
       "Outlet_Type                     0\n",
       "Item_Outlet_Sales               0\n",
       "dtype: int64"
      ]
     },
     "execution_count": 496,
     "metadata": {},
     "output_type": "execute_result"
    }
   ],
   "source": [
    "# Checking for Null values\n",
    "BigMart.isna().sum()"
   ]
  },
  {
   "cell_type": "code",
   "execution_count": 497,
   "id": "ccc832be-e68f-441c-bd28-080266d30f11",
   "metadata": {
    "tags": []
   },
   "outputs": [],
   "source": [
    "# handling Null values\n",
    "BigMart_cleaned = BigMart.copy()\n",
    "BigMart_cleaned.Item_Weight.fillna(BigMart_cleaned.Item_Weight.mean(), inplace=True)\n",
    "BigMart_cleaned.Outlet_Size.fillna(BigMart_cleaned.Outlet_Size.value_counts().index[0], inplace=True)"
   ]
  },
  {
   "cell_type": "code",
   "execution_count": 498,
   "id": "c8ab1afa-d292-40df-9c7c-0e3e0b0bbfaa",
   "metadata": {
    "tags": []
   },
   "outputs": [
    {
     "data": {
      "text/plain": [
       "Item_Identifier              0\n",
       "Item_Weight                  0\n",
       "Item_Fat_Content             0\n",
       "Item_Visibility              0\n",
       "Item_Type                    0\n",
       "Item_MRP                     0\n",
       "Outlet_Identifier            0\n",
       "Outlet_Establishment_Year    0\n",
       "Outlet_Size                  0\n",
       "Outlet_Location_Type         0\n",
       "Outlet_Type                  0\n",
       "Item_Outlet_Sales            0\n",
       "dtype: int64"
      ]
     },
     "execution_count": 498,
     "metadata": {},
     "output_type": "execute_result"
    }
   ],
   "source": [
    "# Rechecking for Null values\n",
    "BigMart_cleaned.isna().sum()"
   ]
  },
  {
   "cell_type": "code",
   "execution_count": 499,
   "id": "7c920176-c68e-4ceb-ae18-43a70f1d3a3a",
   "metadata": {
    "tags": []
   },
   "outputs": [],
   "source": [
    "# removing outliers\n",
    "BigMart_cleaned = BigMart_cleaned[BigMart_cleaned.Item_Outlet_Sales.between(200, 6000)]\n",
    "BigMart_cleaned.reset_index(inplace=True)"
   ]
  },
  {
   "cell_type": "code",
   "execution_count": 500,
   "id": "352ce060-5b51-4f3e-a8ba-64b4a6518e5f",
   "metadata": {
    "tags": []
   },
   "outputs": [
    {
     "data": {
      "text/html": [
       "<div>\n",
       "<style scoped>\n",
       "    .dataframe tbody tr th:only-of-type {\n",
       "        vertical-align: middle;\n",
       "    }\n",
       "\n",
       "    .dataframe tbody tr th {\n",
       "        vertical-align: top;\n",
       "    }\n",
       "\n",
       "    .dataframe thead th {\n",
       "        text-align: right;\n",
       "    }\n",
       "</style>\n",
       "<table border=\"1\" class=\"dataframe\">\n",
       "  <thead>\n",
       "    <tr style=\"text-align: right;\">\n",
       "      <th></th>\n",
       "      <th>index</th>\n",
       "      <th>Item_Weight</th>\n",
       "      <th>Item_Visibility</th>\n",
       "      <th>Item_MRP</th>\n",
       "      <th>Outlet_Establishment_Year</th>\n",
       "      <th>Item_Outlet_Sales</th>\n",
       "    </tr>\n",
       "  </thead>\n",
       "  <tbody>\n",
       "    <tr>\n",
       "      <th>count</th>\n",
       "      <td>7756.000000</td>\n",
       "      <td>7756.000000</td>\n",
       "      <td>7756.000000</td>\n",
       "      <td>7756.000000</td>\n",
       "      <td>7756.000000</td>\n",
       "      <td>7756.000000</td>\n",
       "    </tr>\n",
       "    <tr>\n",
       "      <th>mean</th>\n",
       "      <td>4266.657684</td>\n",
       "      <td>12.853149</td>\n",
       "      <td>0.064380</td>\n",
       "      <td>140.855946</td>\n",
       "      <td>1998.304023</td>\n",
       "      <td>2122.921585</td>\n",
       "    </tr>\n",
       "    <tr>\n",
       "      <th>std</th>\n",
       "      <td>2457.505244</td>\n",
       "      <td>4.285382</td>\n",
       "      <td>0.049746</td>\n",
       "      <td>60.792056</td>\n",
       "      <td>8.257315</td>\n",
       "      <td>1405.298476</td>\n",
       "    </tr>\n",
       "    <tr>\n",
       "      <th>min</th>\n",
       "      <td>0.000000</td>\n",
       "      <td>4.555000</td>\n",
       "      <td>0.000000</td>\n",
       "      <td>31.290000</td>\n",
       "      <td>1985.000000</td>\n",
       "      <td>201.071600</td>\n",
       "    </tr>\n",
       "    <tr>\n",
       "      <th>10%</th>\n",
       "      <td>852.500000</td>\n",
       "      <td>6.960000</td>\n",
       "      <td>0.011583</td>\n",
       "      <td>55.029800</td>\n",
       "      <td>1985.000000</td>\n",
       "      <td>498.018400</td>\n",
       "    </tr>\n",
       "    <tr>\n",
       "      <th>25%</th>\n",
       "      <td>2148.750000</td>\n",
       "      <td>9.300000</td>\n",
       "      <td>0.026781</td>\n",
       "      <td>95.300850</td>\n",
       "      <td>1987.000000</td>\n",
       "      <td>966.741600</td>\n",
       "    </tr>\n",
       "    <tr>\n",
       "      <th>50%</th>\n",
       "      <td>4262.500000</td>\n",
       "      <td>12.857645</td>\n",
       "      <td>0.052493</td>\n",
       "      <td>142.482500</td>\n",
       "      <td>1999.000000</td>\n",
       "      <td>1842.934400</td>\n",
       "    </tr>\n",
       "    <tr>\n",
       "      <th>75%</th>\n",
       "      <td>6388.250000</td>\n",
       "      <td>16.200000</td>\n",
       "      <td>0.093027</td>\n",
       "      <td>184.468700</td>\n",
       "      <td>2004.000000</td>\n",
       "      <td>3026.393900</td>\n",
       "    </tr>\n",
       "    <tr>\n",
       "      <th>90%</th>\n",
       "      <td>7670.500000</td>\n",
       "      <td>19.100000</td>\n",
       "      <td>0.135764</td>\n",
       "      <td>228.666800</td>\n",
       "      <td>2009.000000</td>\n",
       "      <td>4243.476300</td>\n",
       "    </tr>\n",
       "    <tr>\n",
       "      <th>max</th>\n",
       "      <td>8522.000000</td>\n",
       "      <td>21.350000</td>\n",
       "      <td>0.328391</td>\n",
       "      <td>266.888400</td>\n",
       "      <td>2009.000000</td>\n",
       "      <td>5992.200000</td>\n",
       "    </tr>\n",
       "  </tbody>\n",
       "</table>\n",
       "</div>"
      ],
      "text/plain": [
       "             index  Item_Weight  Item_Visibility     Item_MRP  \\\n",
       "count  7756.000000  7756.000000      7756.000000  7756.000000   \n",
       "mean   4266.657684    12.853149         0.064380   140.855946   \n",
       "std    2457.505244     4.285382         0.049746    60.792056   \n",
       "min       0.000000     4.555000         0.000000    31.290000   \n",
       "10%     852.500000     6.960000         0.011583    55.029800   \n",
       "25%    2148.750000     9.300000         0.026781    95.300850   \n",
       "50%    4262.500000    12.857645         0.052493   142.482500   \n",
       "75%    6388.250000    16.200000         0.093027   184.468700   \n",
       "90%    7670.500000    19.100000         0.135764   228.666800   \n",
       "max    8522.000000    21.350000         0.328391   266.888400   \n",
       "\n",
       "       Outlet_Establishment_Year  Item_Outlet_Sales  \n",
       "count                7756.000000        7756.000000  \n",
       "mean                 1998.304023        2122.921585  \n",
       "std                     8.257315        1405.298476  \n",
       "min                  1985.000000         201.071600  \n",
       "10%                  1985.000000         498.018400  \n",
       "25%                  1987.000000         966.741600  \n",
       "50%                  1999.000000        1842.934400  \n",
       "75%                  2004.000000        3026.393900  \n",
       "90%                  2009.000000        4243.476300  \n",
       "max                  2009.000000        5992.200000  "
      ]
     },
     "execution_count": 500,
     "metadata": {},
     "output_type": "execute_result"
    }
   ],
   "source": [
    "# summarizing all the numeric columns\n",
    "BigMart_cleaned.describe(percentiles=[0.1, 0.25, 0.5, 0.75, 0.9])"
   ]
  },
  {
   "cell_type": "code",
   "execution_count": 501,
   "id": "e993dabd-1ad0-41a8-a2d8-e23c9bb9bf4b",
   "metadata": {},
   "outputs": [],
   "source": [
    "# handling categorical data\n",
    "from sklearn.preprocessing import OneHotEncoder\n",
    "X_cat = BigMart_cleaned.loc[:,['Item_Fat_Content', 'Item_Type', 'Outlet_Establishment_Year', 'Outlet_Size',\n",
    "                             'Outlet_Location_Type','Outlet_Type',]]\n",
    "ohe = OneHotEncoder(sparse=False)\n",
    "X_cat = pd.DataFrame(ohe.fit_transform(X_cat))\n",
    "X_cat.columns = ohe.get_feature_names_out()"
   ]
  },
  {
   "cell_type": "markdown",
   "id": "c81d24e8-2fb4-4f09-bdb7-9ae34b15d415",
   "metadata": {
    "tags": []
   },
   "source": [
    "### Feature Selection for numerical data"
   ]
  },
  {
   "cell_type": "code",
   "execution_count": 502,
   "id": "b80df75e-4878-4d9e-9781-cd64f521ca3d",
   "metadata": {
    "tags": []
   },
   "outputs": [
    {
     "data": {
      "image/png": "[encoded data removed]",
      "text/plain": [
       "<Figure size 432x288 with 2 Axes>"
      ]
     },
     "metadata": {
      "needs_background": "light"
     },
     "output_type": "display_data"
    }
   ],
   "source": [
    "# correlation between the variables\n",
    "corr = BigMart_cleaned.corr()\n",
    "_ = sns.heatmap(corr, xticklabels=corr.columns, yticklabels=corr.columns, annot=True,\n",
    "               cmap=sns.diverging_palette(220, 20, as_cmap=True))"
   ]
  },
  {
   "cell_type": "code",
   "execution_count": 503,
   "id": "e30cb0da-dd5f-4407-b933-84db2ac17afb",
   "metadata": {
    "tags": []
   },
   "outputs": [],
   "source": [
    "# visualizing relationships between variables\n",
    "_ = sns.pairplot(BigMart_cleaned)"
   ]
  },
  {
   "cell_type": "markdown",
   "id": "8c4c3788-02d4-4ab1-8b51-a3ddda6c6f1d",
   "metadata": {
    "jp-MarkdownHeadingCollapsed": true,
    "tags": []
   },
   "source": [
    "##### *Selecting 'Item_MRP' as the only numerical feature*"
   ]
  },
  {
   "cell_type": "markdown",
   "id": "0b715784-1afd-4132-8b93-0e68a21ac0d3",
   "metadata": {
    "tags": []
   },
   "source": [
    "### Feature selection for categorical variables"
   ]
  },
  {
   "cell_type": "code",
   "execution_count": 504,
   "id": "f0828b87-a19b-4138-8569-253d7e2ce190",
   "metadata": {
    "tags": []
   },
   "outputs": [],
   "source": [
    "# getting all the relevant categorical features\n",
    "from sklearn.feature_selection import SelectKBest, f_regression\n",
    "y = BigMart_cleaned.loc[:, 'Item_Outlet_Sales']\n",
    "FeatureSelector = SelectKBest(score_func=f_regression, k=40)\n",
    "X_cat_new = FeatureSelector.fit_transform(X_cat, y)\n",
    "X_cat_new = pd.DataFrame(X_cat_new)\n",
    "X_cat_new.columns = FeatureSelector.get_feature_names_out()"
   ]
  },
  {
   "cell_type": "code",
   "execution_count": 505,
   "id": "f2dbdbc8-5020-4be8-8081-0546b4c968a8",
   "metadata": {
    "tags": []
   },
   "outputs": [],
   "source": [
    "# getting our training data\n",
    "X_train = pd.concat((X_cat_new, BigMart_cleaned.loc[:, 'Item_MRP']), axis=1)\n",
    "y_train = BigMart_cleaned.loc[:, 'Item_Outlet_Sales']"
   ]
  },
  {
   "cell_type": "markdown",
   "id": "6c26c6f3-b5e8-4583-bde4-29af2f98a636",
   "metadata": {},
   "source": [
    "### Modeling the data"
   ]
  },
  {
   "cell_type": "code",
   "execution_count": 506,
   "id": "4700569c-f779-49a7-a10e-660f5e0c2198",
   "metadata": {},
   "outputs": [
    {
     "data": {
      "text/html": [
       "<style>#sk-container-id-15 {color: black;background-color: white;}#sk-container-id-15 pre{padding: 0;}#sk-container-id-15 div.sk-toggleable {background-color: white;}#sk-container-id-15 label.sk-toggleable__label {cursor: pointer;display: block;width: 100%;margin-bottom: 0;padding: 0.3em;box-sizing: border-box;text-align: center;}#sk-container-id-15 label.sk-toggleable__label-arrow:before {content: \"▸\";float: left;margin-right: 0.25em;color: #696969;}#sk-container-id-15 label.sk-toggleable__label-arrow:hover:before {color: black;}#sk-container-id-15 div.sk-estimator:hover label.sk-toggleable__label-arrow:before {color: black;}#sk-container-id-15 div.sk-toggleable__content {max-height: 0;max-width: 0;overflow: hidden;text-align: left;background-color: #f0f8ff;}#sk-container-id-15 div.sk-toggleable__content pre {margin: 0.2em;color: black;border-radius: 0.25em;background-color: #f0f8ff;}#sk-container-id-15 input.sk-toggleable__control:checked~div.sk-toggleable__content {max-height: 200px;max-width: 100%;overflow: auto;}#sk-container-id-15 input.sk-toggleable__control:checked~label.sk-toggleable__label-arrow:before {content: \"▾\";}#sk-container-id-15 div.sk-estimator input.sk-toggleable__control:checked~label.sk-toggleable__label {background-color: #d4ebff;}#sk-container-id-15 div.sk-label input.sk-toggleable__control:checked~label.sk-toggleable__label {background-color: #d4ebff;}#sk-container-id-15 input.sk-hidden--visually {border: 0;clip: rect(1px 1px 1px 1px);clip: rect(1px, 1px, 1px, 1px);height: 1px;margin: -1px;overflow: hidden;padding: 0;position: absolute;width: 1px;}#sk-container-id-15 div.sk-estimator {font-family: monospace;background-color: #f0f8ff;border: 1px dotted black;border-radius: 0.25em;box-sizing: border-box;margin-bottom: 0.5em;}#sk-container-id-15 div.sk-estimator:hover {background-color: #d4ebff;}#sk-container-id-15 div.sk-parallel-item::after {content: \"\";width: 100%;border-bottom: 1px solid gray;flex-grow: 1;}#sk-container-id-15 div.sk-label:hover label.sk-toggleable__label {background-color: #d4ebff;}#sk-container-id-15 div.sk-serial::before {content: \"\";position: absolute;border-left: 1px solid gray;box-sizing: border-box;top: 0;bottom: 0;left: 50%;z-index: 0;}#sk-container-id-15 div.sk-serial {display: flex;flex-direction: column;align-items: center;background-color: white;padding-right: 0.2em;padding-left: 0.2em;position: relative;}#sk-container-id-15 div.sk-item {position: relative;z-index: 1;}#sk-container-id-15 div.sk-parallel {display: flex;align-items: stretch;justify-content: center;background-color: white;position: relative;}#sk-container-id-15 div.sk-item::before, #sk-container-id-15 div.sk-parallel-item::before {content: \"\";position: absolute;border-left: 1px solid gray;box-sizing: border-box;top: 0;bottom: 0;left: 50%;z-index: -1;}#sk-container-id-15 div.sk-parallel-item {display: flex;flex-direction: column;z-index: 1;position: relative;background-color: white;}#sk-container-id-15 div.sk-parallel-item:first-child::after {align-self: flex-end;width: 50%;}#sk-container-id-15 div.sk-parallel-item:last-child::after {align-self: flex-start;width: 50%;}#sk-container-id-15 div.sk-parallel-item:only-child::after {width: 0;}#sk-container-id-15 div.sk-dashed-wrapped {border: 1px dashed gray;margin: 0 0.4em 0.5em 0.4em;box-sizing: border-box;padding-bottom: 0.4em;background-color: white;}#sk-container-id-15 div.sk-label label {font-family: monospace;font-weight: bold;display: inline-block;line-height: 1.2em;}#sk-container-id-15 div.sk-label-container {text-align: center;}#sk-container-id-15 div.sk-container {/* jupyter's `normalize.less` sets `[hidden] { display: none; }` but bootstrap.min.css set `[hidden] { display: none !important; }` so we also need the `!important` here to be able to override the default hidden behavior on the sphinx rendered scikit-learn.org. See: https://github.com/scikit-learn/scikit-learn/issues/21755 */display: inline-block !important;position: relative;}#sk-container-id-15 div.sk-text-repr-fallback {display: none;}</style><div id=\"sk-container-id-15\" class=\"sk-top-container\"><div class=\"sk-text-repr-fallback\"><pre>RandomForestRegressor()</pre><b>In a Jupyter environment, please rerun this cell to show the HTML representation or trust the notebook. <br />On GitHub, the HTML representation is unable to render, please try loading this page with nbviewer.org.</b></div><div class=\"sk-container\" hidden><div class=\"sk-item\"><div class=\"sk-estimator sk-toggleable\"><input class=\"sk-toggleable__control sk-hidden--visually\" id=\"sk-estimator-id-15\" type=\"checkbox\" checked><label for=\"sk-estimator-id-15\" class=\"sk-toggleable__label sk-toggleable__label-arrow\">RandomForestRegressor</label><div class=\"sk-toggleable__content\"><pre>RandomForestRegressor()</pre></div></div></div></div></div>"
      ],
      "text/plain": [
       "RandomForestRegressor()"
      ]
     },
     "execution_count": 506,
     "metadata": {},
     "output_type": "execute_result"
    }
   ],
   "source": [
    "# using Random Forest Regressor to model the data\n",
    "from sklearn.ensemble import RandomForestRegressor\n",
    "sale_predictor = RandomForestRegressor(n_estimators=100)\n",
    "sale_predictor.fit(X_train, y_train)"
   ]
  },
  {
   "cell_type": "code",
   "execution_count": 507,
   "id": "caf4787e-f4d7-4e2e-a2bb-0204e6726876",
   "metadata": {
    "tags": []
   },
   "outputs": [],
   "source": [
    "# predicting training data\n",
    "list(zip(y_train, sale_predictor.predict(X_train)))"
   ]
  },
  {
   "cell_type": "code",
   "execution_count": 508,
   "id": "3db98e2c-617e-48b7-8021-7b3a98f18350",
   "metadata": {},
   "outputs": [
    {
     "data": {
      "text/plain": [
       "385.23331770975324"
      ]
     },
     "execution_count": 508,
     "metadata": {},
     "output_type": "execute_result"
    }
   ],
   "source": [
    "# finding mean squared error for tarining set\n",
    "from sklearn.metrics import mean_squared_error\n",
    "mean_squared_error(y_train, sale_predictor.predict(X_train))"
   ]
  },
  {
   "cell_type": "markdown",
   "id": "bfe70997-3894-4809-988a-a355e92d73ac",
   "metadata": {},
   "source": [
    "### Applying our model on Test set"
   ]
  },
  {
   "cell_type": "code",
   "execution_count": 509,
   "id": "3fda4e12-c510-4982-b930-147fc48673d0",
   "metadata": {
    "tags": []
   },
   "outputs": [],
   "source": [
    "# importing train set\n",
    "BigMart_test1 = pd.read_csv('BigMart_Test.csv')\n",
    "\n",
    "# handling NaN's\n",
    "BigMart_test = BigMart_test1.copy()\n",
    "BigMart_test.Item_Weight.fillna(BigMart_test.Item_Weight.mean(), inplace=True)\n",
    "BigMart_test.Outlet_Size.fillna(BigMart_test.Outlet_Size.value_counts().index[0], inplace=True)\n",
    "\n",
    "# handling categorical data\n",
    "X_cat_test = BigMart_test.loc[:,['Item_Fat_Content', 'Item_Type', 'Outlet_Establishment_Year', 'Outlet_Size',\n",
    "                             'Outlet_Location_Type','Outlet_Type',]]\n",
    "ohe_test = OneHotEncoder(sparse=False)\n",
    "X_cat_test = pd.DataFrame(ohe_test.fit_transform(X_cat_test))\n",
    "X_cat_test.columns = ohe_test.get_feature_names_out()\n",
    "\n",
    "# feature selection\n",
    "col = X_cat_new.columns.to_list()\n",
    "\n",
    "# getting the training data\n",
    "X_test = pd.concat((X_cat_test.loc[:,col], BigMart_test.loc[:, 'Item_MRP']), axis=1)"
   ]
  },
  {
   "cell_type": "code",
   "execution_count": 510,
   "id": "39b1d9b9-4665-49bd-a12f-c9138d01b6f2",
   "metadata": {
    "tags": []
   },
   "outputs": [],
   "source": [
    "# predicting the Test set\n",
    "y_pred = sale_predictor.predict(X_test)"
   ]
  }
 ],
 "metadata": {
  "kernelspec": {
   "display_name": "Python 3 (ipykernel)",
   "language": "python",
   "name": "python3"
  },
  "language_info": {
   "codemirror_mode": {
    "name": "ipython",
    "version": 3
   },
   "file_extension": ".py",
   "mimetype": "text/x-python",
   "name": "python",
   "nbconvert_exporter": "python",
   "pygments_lexer": "ipython3",
   "version": "3.9.12"
  }
 },
 "nbformat": 4,
 "nbformat_minor": 5
}
