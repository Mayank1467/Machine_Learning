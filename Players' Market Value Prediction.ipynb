{
 "cells": [
  {
   "cell_type": "code",
   "execution_count": 494,
   "id": "2caae621-9720-4a97-ba7a-dc11069cdde2",
   "metadata": {},
   "outputs": [],
   "source": [
    "import numpy as np\n",
    "import pandas as pd\n",
    "import matplotlib.pyplot as plt\n",
    "import seaborn as sns"
   ]
  },
  {
   "cell_type": "code",
   "execution_count": 495,
   "id": "9ad65f09-f08b-436d-ab66-246e07268cb7",
   "metadata": {},
   "outputs": [],
   "source": [
    "url = 'https://andybek.com/pandas-soccer'"
   ]
  },
  {
   "cell_type": "code",
   "execution_count": 496,
   "id": "935bacd1-fb9e-4331-86a3-d6dff664a6d5",
   "metadata": {
    "tags": []
   },
   "outputs": [
    {
     "data": {
      "text/html": [
       "<div>\n",
       "<style scoped>\n",
       "    .dataframe tbody tr th:only-of-type {\n",
       "        vertical-align: middle;\n",
       "    }\n",
       "\n",
       "    .dataframe tbody tr th {\n",
       "        vertical-align: top;\n",
       "    }\n",
       "\n",
       "    .dataframe thead th {\n",
       "        text-align: right;\n",
       "    }\n",
       "</style>\n",
       "<table border=\"1\" class=\"dataframe\">\n",
       "  <thead>\n",
       "    <tr style=\"text-align: right;\">\n",
       "      <th></th>\n",
       "      <th>name</th>\n",
       "      <th>club</th>\n",
       "      <th>age</th>\n",
       "      <th>position</th>\n",
       "      <th>position_cat</th>\n",
       "      <th>market_value</th>\n",
       "      <th>page_views</th>\n",
       "      <th>fpl_value</th>\n",
       "      <th>fpl_sel</th>\n",
       "      <th>fpl_points</th>\n",
       "      <th>region</th>\n",
       "      <th>nationality</th>\n",
       "      <th>new_foreign</th>\n",
       "      <th>age_cat</th>\n",
       "      <th>club_id</th>\n",
       "      <th>big_club</th>\n",
       "      <th>new_signing</th>\n",
       "    </tr>\n",
       "  </thead>\n",
       "  <tbody>\n",
       "    <tr>\n",
       "      <th>0</th>\n",
       "      <td>Alexis Sanchez</td>\n",
       "      <td>Arsenal</td>\n",
       "      <td>28</td>\n",
       "      <td>LW</td>\n",
       "      <td>1</td>\n",
       "      <td>65.0</td>\n",
       "      <td>4329</td>\n",
       "      <td>12.0</td>\n",
       "      <td>17.10%</td>\n",
       "      <td>264</td>\n",
       "      <td>3</td>\n",
       "      <td>Chile</td>\n",
       "      <td>0</td>\n",
       "      <td>4</td>\n",
       "      <td>1</td>\n",
       "      <td>1</td>\n",
       "      <td>0</td>\n",
       "    </tr>\n",
       "    <tr>\n",
       "      <th>1</th>\n",
       "      <td>Mesut Ozil</td>\n",
       "      <td>Arsenal</td>\n",
       "      <td>28</td>\n",
       "      <td>AM</td>\n",
       "      <td>1</td>\n",
       "      <td>50.0</td>\n",
       "      <td>4395</td>\n",
       "      <td>9.5</td>\n",
       "      <td>5.60%</td>\n",
       "      <td>167</td>\n",
       "      <td>2</td>\n",
       "      <td>Germany</td>\n",
       "      <td>0</td>\n",
       "      <td>4</td>\n",
       "      <td>1</td>\n",
       "      <td>1</td>\n",
       "      <td>0</td>\n",
       "    </tr>\n",
       "    <tr>\n",
       "      <th>2</th>\n",
       "      <td>Petr Cech</td>\n",
       "      <td>Arsenal</td>\n",
       "      <td>35</td>\n",
       "      <td>GK</td>\n",
       "      <td>4</td>\n",
       "      <td>7.0</td>\n",
       "      <td>1529</td>\n",
       "      <td>5.5</td>\n",
       "      <td>5.90%</td>\n",
       "      <td>134</td>\n",
       "      <td>2</td>\n",
       "      <td>Czech Republic</td>\n",
       "      <td>0</td>\n",
       "      <td>6</td>\n",
       "      <td>1</td>\n",
       "      <td>1</td>\n",
       "      <td>0</td>\n",
       "    </tr>\n",
       "    <tr>\n",
       "      <th>3</th>\n",
       "      <td>Theo Walcott</td>\n",
       "      <td>Arsenal</td>\n",
       "      <td>28</td>\n",
       "      <td>RW</td>\n",
       "      <td>1</td>\n",
       "      <td>20.0</td>\n",
       "      <td>2393</td>\n",
       "      <td>7.5</td>\n",
       "      <td>1.50%</td>\n",
       "      <td>122</td>\n",
       "      <td>1</td>\n",
       "      <td>England</td>\n",
       "      <td>0</td>\n",
       "      <td>4</td>\n",
       "      <td>1</td>\n",
       "      <td>1</td>\n",
       "      <td>0</td>\n",
       "    </tr>\n",
       "    <tr>\n",
       "      <th>4</th>\n",
       "      <td>Laurent Koscielny</td>\n",
       "      <td>Arsenal</td>\n",
       "      <td>31</td>\n",
       "      <td>CB</td>\n",
       "      <td>3</td>\n",
       "      <td>22.0</td>\n",
       "      <td>912</td>\n",
       "      <td>6.0</td>\n",
       "      <td>0.70%</td>\n",
       "      <td>121</td>\n",
       "      <td>2</td>\n",
       "      <td>France</td>\n",
       "      <td>0</td>\n",
       "      <td>4</td>\n",
       "      <td>1</td>\n",
       "      <td>1</td>\n",
       "      <td>0</td>\n",
       "    </tr>\n",
       "  </tbody>\n",
       "</table>\n",
       "</div>"
      ],
      "text/plain": [
       "                name     club  age position  position_cat  market_value  \\\n",
       "0     Alexis Sanchez  Arsenal   28       LW             1          65.0   \n",
       "1         Mesut Ozil  Arsenal   28       AM             1          50.0   \n",
       "2          Petr Cech  Arsenal   35       GK             4           7.0   \n",
       "3       Theo Walcott  Arsenal   28       RW             1          20.0   \n",
       "4  Laurent Koscielny  Arsenal   31       CB             3          22.0   \n",
       "\n",
       "   page_views  fpl_value fpl_sel  fpl_points  region     nationality  \\\n",
       "0        4329       12.0  17.10%         264       3           Chile   \n",
       "1        4395        9.5   5.60%         167       2         Germany   \n",
       "2        1529        5.5   5.90%         134       2  Czech Republic   \n",
       "3        2393        7.5   1.50%         122       1         England   \n",
       "4         912        6.0   0.70%         121       2          France   \n",
       "\n",
       "   new_foreign  age_cat  club_id  big_club  new_signing  \n",
       "0            0        4        1         1            0  \n",
       "1            0        4        1         1            0  \n",
       "2            0        6        1         1            0  \n",
       "3            0        4        1         1            0  \n",
       "4            0        4        1         1            0  "
      ]
     },
     "execution_count": 496,
     "metadata": {},
     "output_type": "execute_result"
    }
   ],
   "source": [
    "# reading players data\n",
    "players = pd.read_csv(url)\n",
    "players.head(5)\n",
    "# players.market_value = players.market_value * 1000000"
   ]
  },
  {
   "cell_type": "code",
   "execution_count": 497,
   "id": "820124dc-384b-4374-ad1e-9ada8f8e6c44",
   "metadata": {
    "tags": []
   },
   "outputs": [
    {
     "data": {
      "text/html": [
       "<div>\n",
       "<style scoped>\n",
       "    .dataframe tbody tr th:only-of-type {\n",
       "        vertical-align: middle;\n",
       "    }\n",
       "\n",
       "    .dataframe tbody tr th {\n",
       "        vertical-align: top;\n",
       "    }\n",
       "\n",
       "    .dataframe thead th {\n",
       "        text-align: right;\n",
       "    }\n",
       "</style>\n",
       "<table border=\"1\" class=\"dataframe\">\n",
       "  <thead>\n",
       "    <tr style=\"text-align: right;\">\n",
       "      <th></th>\n",
       "      <th>age</th>\n",
       "      <th>position_cat</th>\n",
       "      <th>market_value</th>\n",
       "      <th>page_views</th>\n",
       "      <th>fpl_value</th>\n",
       "      <th>fpl_points</th>\n",
       "      <th>region</th>\n",
       "      <th>new_foreign</th>\n",
       "      <th>age_cat</th>\n",
       "      <th>club_id</th>\n",
       "      <th>big_club</th>\n",
       "      <th>new_signing</th>\n",
       "    </tr>\n",
       "  </thead>\n",
       "  <tbody>\n",
       "    <tr>\n",
       "      <th>count</th>\n",
       "      <td>465.000000</td>\n",
       "      <td>465.000000</td>\n",
       "      <td>462.000000</td>\n",
       "      <td>465.000000</td>\n",
       "      <td>465.000000</td>\n",
       "      <td>465.000000</td>\n",
       "      <td>465.000000</td>\n",
       "      <td>465.000000</td>\n",
       "      <td>465.000000</td>\n",
       "      <td>465.000000</td>\n",
       "      <td>465.000000</td>\n",
       "      <td>465.000000</td>\n",
       "    </tr>\n",
       "    <tr>\n",
       "      <th>mean</th>\n",
       "      <td>26.776344</td>\n",
       "      <td>2.178495</td>\n",
       "      <td>11.125649</td>\n",
       "      <td>771.546237</td>\n",
       "      <td>5.450538</td>\n",
       "      <td>57.544086</td>\n",
       "      <td>1.989247</td>\n",
       "      <td>0.034409</td>\n",
       "      <td>3.195699</td>\n",
       "      <td>10.253763</td>\n",
       "      <td>0.309677</td>\n",
       "      <td>0.144086</td>\n",
       "    </tr>\n",
       "    <tr>\n",
       "      <th>std</th>\n",
       "      <td>3.956863</td>\n",
       "      <td>0.995880</td>\n",
       "      <td>12.312959</td>\n",
       "      <td>931.631982</td>\n",
       "      <td>1.341370</td>\n",
       "      <td>52.941969</td>\n",
       "      <td>0.954737</td>\n",
       "      <td>0.182473</td>\n",
       "      <td>1.279136</td>\n",
       "      <td>5.766665</td>\n",
       "      <td>0.462859</td>\n",
       "      <td>0.351555</td>\n",
       "    </tr>\n",
       "    <tr>\n",
       "      <th>min</th>\n",
       "      <td>17.000000</td>\n",
       "      <td>1.000000</td>\n",
       "      <td>0.050000</td>\n",
       "      <td>3.000000</td>\n",
       "      <td>4.000000</td>\n",
       "      <td>0.000000</td>\n",
       "      <td>1.000000</td>\n",
       "      <td>0.000000</td>\n",
       "      <td>1.000000</td>\n",
       "      <td>1.000000</td>\n",
       "      <td>0.000000</td>\n",
       "      <td>0.000000</td>\n",
       "    </tr>\n",
       "    <tr>\n",
       "      <th>10%</th>\n",
       "      <td>21.000000</td>\n",
       "      <td>1.000000</td>\n",
       "      <td>1.000000</td>\n",
       "      <td>126.000000</td>\n",
       "      <td>4.500000</td>\n",
       "      <td>0.000000</td>\n",
       "      <td>1.000000</td>\n",
       "      <td>0.000000</td>\n",
       "      <td>1.000000</td>\n",
       "      <td>2.000000</td>\n",
       "      <td>0.000000</td>\n",
       "      <td>0.000000</td>\n",
       "    </tr>\n",
       "    <tr>\n",
       "      <th>25%</th>\n",
       "      <td>24.000000</td>\n",
       "      <td>1.000000</td>\n",
       "      <td>3.000000</td>\n",
       "      <td>221.000000</td>\n",
       "      <td>4.500000</td>\n",
       "      <td>5.000000</td>\n",
       "      <td>1.000000</td>\n",
       "      <td>0.000000</td>\n",
       "      <td>2.000000</td>\n",
       "      <td>6.000000</td>\n",
       "      <td>0.000000</td>\n",
       "      <td>0.000000</td>\n",
       "    </tr>\n",
       "    <tr>\n",
       "      <th>50%</th>\n",
       "      <td>27.000000</td>\n",
       "      <td>2.000000</td>\n",
       "      <td>7.000000</td>\n",
       "      <td>461.000000</td>\n",
       "      <td>5.000000</td>\n",
       "      <td>51.000000</td>\n",
       "      <td>2.000000</td>\n",
       "      <td>0.000000</td>\n",
       "      <td>3.000000</td>\n",
       "      <td>10.000000</td>\n",
       "      <td>0.000000</td>\n",
       "      <td>0.000000</td>\n",
       "    </tr>\n",
       "    <tr>\n",
       "      <th>75%</th>\n",
       "      <td>29.000000</td>\n",
       "      <td>3.000000</td>\n",
       "      <td>15.000000</td>\n",
       "      <td>935.000000</td>\n",
       "      <td>6.000000</td>\n",
       "      <td>94.000000</td>\n",
       "      <td>2.000000</td>\n",
       "      <td>0.000000</td>\n",
       "      <td>4.000000</td>\n",
       "      <td>15.000000</td>\n",
       "      <td>1.000000</td>\n",
       "      <td>0.000000</td>\n",
       "    </tr>\n",
       "    <tr>\n",
       "      <th>90%</th>\n",
       "      <td>32.000000</td>\n",
       "      <td>3.000000</td>\n",
       "      <td>29.800000</td>\n",
       "      <td>1756.600000</td>\n",
       "      <td>7.300000</td>\n",
       "      <td>130.000000</td>\n",
       "      <td>4.000000</td>\n",
       "      <td>0.000000</td>\n",
       "      <td>5.000000</td>\n",
       "      <td>18.000000</td>\n",
       "      <td>1.000000</td>\n",
       "      <td>1.000000</td>\n",
       "    </tr>\n",
       "    <tr>\n",
       "      <th>max</th>\n",
       "      <td>38.000000</td>\n",
       "      <td>4.000000</td>\n",
       "      <td>75.000000</td>\n",
       "      <td>7664.000000</td>\n",
       "      <td>12.500000</td>\n",
       "      <td>264.000000</td>\n",
       "      <td>4.000000</td>\n",
       "      <td>1.000000</td>\n",
       "      <td>6.000000</td>\n",
       "      <td>20.000000</td>\n",
       "      <td>1.000000</td>\n",
       "      <td>1.000000</td>\n",
       "    </tr>\n",
       "  </tbody>\n",
       "</table>\n",
       "</div>"
      ],
      "text/plain": [
       "              age  position_cat  market_value   page_views   fpl_value  \\\n",
       "count  465.000000    465.000000    462.000000   465.000000  465.000000   \n",
       "mean    26.776344      2.178495     11.125649   771.546237    5.450538   \n",
       "std      3.956863      0.995880     12.312959   931.631982    1.341370   \n",
       "min     17.000000      1.000000      0.050000     3.000000    4.000000   \n",
       "10%     21.000000      1.000000      1.000000   126.000000    4.500000   \n",
       "25%     24.000000      1.000000      3.000000   221.000000    4.500000   \n",
       "50%     27.000000      2.000000      7.000000   461.000000    5.000000   \n",
       "75%     29.000000      3.000000     15.000000   935.000000    6.000000   \n",
       "90%     32.000000      3.000000     29.800000  1756.600000    7.300000   \n",
       "max     38.000000      4.000000     75.000000  7664.000000   12.500000   \n",
       "\n",
       "       fpl_points      region  new_foreign     age_cat     club_id  \\\n",
       "count  465.000000  465.000000   465.000000  465.000000  465.000000   \n",
       "mean    57.544086    1.989247     0.034409    3.195699   10.253763   \n",
       "std     52.941969    0.954737     0.182473    1.279136    5.766665   \n",
       "min      0.000000    1.000000     0.000000    1.000000    1.000000   \n",
       "10%      0.000000    1.000000     0.000000    1.000000    2.000000   \n",
       "25%      5.000000    1.000000     0.000000    2.000000    6.000000   \n",
       "50%     51.000000    2.000000     0.000000    3.000000   10.000000   \n",
       "75%     94.000000    2.000000     0.000000    4.000000   15.000000   \n",
       "90%    130.000000    4.000000     0.000000    5.000000   18.000000   \n",
       "max    264.000000    4.000000     1.000000    6.000000   20.000000   \n",
       "\n",
       "         big_club  new_signing  \n",
       "count  465.000000   465.000000  \n",
       "mean     0.309677     0.144086  \n",
       "std      0.462859     0.351555  \n",
       "min      0.000000     0.000000  \n",
       "10%      0.000000     0.000000  \n",
       "25%      0.000000     0.000000  \n",
       "50%      0.000000     0.000000  \n",
       "75%      1.000000     0.000000  \n",
       "90%      1.000000     1.000000  \n",
       "max      1.000000     1.000000  "
      ]
     },
     "execution_count": 497,
     "metadata": {},
     "output_type": "execute_result"
    }
   ],
   "source": [
    "# statistical summary\n",
    "players.describe(percentiles=[0.1, 0.25, 0.5, 0.75, 0.9])"
   ]
  },
  {
   "cell_type": "code",
   "execution_count": 498,
   "id": "bbe456ad-837a-4ac7-b5f4-9411b82831a9",
   "metadata": {},
   "outputs": [],
   "source": [
    "# handling outliers\n",
    "players = players[players.market_value.between(0.05, 40)]\n",
    "players = players[players.page_views.between(3, 3000)]\n",
    "players = players[players.fpl_points.between(0, 150)].reset_index(drop=True)"
   ]
  },
  {
   "cell_type": "code",
   "execution_count": 499,
   "id": "05d2b198-bbb2-4206-8521-e7667d6befc8",
   "metadata": {
    "tags": []
   },
   "outputs": [],
   "source": [
    "players.drop(columns=['name', 'position_cat', 'fpl_sel', 'region', 'nationality', 'new_foreign',\n",
    "                      'age_cat', 'club_id', 'new_signing', 'big_club'], inplace=True)"
   ]
  },
  {
   "cell_type": "code",
   "execution_count": 500,
   "id": "731fe89f-9ea1-4d28-bb3b-c176d519708f",
   "metadata": {
    "tags": []
   },
   "outputs": [
    {
     "name": "stdout",
     "output_type": "stream",
     "text": [
      "<class 'pandas.core.frame.DataFrame'>\n",
      "RangeIndex: 433 entries, 0 to 432\n",
      "Data columns (total 7 columns):\n",
      " #   Column        Non-Null Count  Dtype  \n",
      "---  ------        --------------  -----  \n",
      " 0   club          433 non-null    object \n",
      " 1   age           433 non-null    int64  \n",
      " 2   position      433 non-null    object \n",
      " 3   market_value  433 non-null    float64\n",
      " 4   page_views    433 non-null    int64  \n",
      " 5   fpl_value     433 non-null    float64\n",
      " 6   fpl_points    433 non-null    int64  \n",
      "dtypes: float64(2), int64(3), object(2)\n",
      "memory usage: 23.8+ KB\n"
     ]
    }
   ],
   "source": [
    "# chaceking all columns and their dtype\n",
    "players.info()"
   ]
  },
  {
   "cell_type": "code",
   "execution_count": 501,
   "id": "7c444358-98d1-4fec-b2be-365e09891d6f",
   "metadata": {
    "tags": []
   },
   "outputs": [
    {
     "data": {
      "text/plain": [
       "club            0\n",
       "age             0\n",
       "position        0\n",
       "market_value    0\n",
       "page_views      0\n",
       "fpl_value       0\n",
       "fpl_points      0\n",
       "dtype: int64"
      ]
     },
     "execution_count": 501,
     "metadata": {},
     "output_type": "execute_result"
    }
   ],
   "source": [
    "# checking for NaN's\n",
    "players.isna().sum()"
   ]
  },
  {
   "cell_type": "code",
   "execution_count": 502,
   "id": "f2237c0b-1c87-4734-9685-0c773dd5642c",
   "metadata": {
    "tags": []
   },
   "outputs": [],
   "source": [
    "# handling NaN's\n",
    "from sklearn.impute import SimpleImputer\n",
    "\n",
    "si_X = SimpleImputer(missing_values = np.nan, strategy = 'most_frequent')\n",
    "players['position'] = si_X.fit_transform(players.loc[:,['position']])\n",
    "players['market_value'].fillna(players['market_value'].mean(), inplace = True)"
   ]
  },
  {
   "cell_type": "code",
   "execution_count": 503,
   "id": "d97dc2d6-c10a-48b1-bbaf-aa1849dd6c55",
   "metadata": {
    "tags": []
   },
   "outputs": [
    {
     "data": {
      "text/plain": [
       "club            0\n",
       "age             0\n",
       "position        0\n",
       "market_value    0\n",
       "page_views      0\n",
       "fpl_value       0\n",
       "fpl_points      0\n",
       "dtype: int64"
      ]
     },
     "execution_count": 503,
     "metadata": {},
     "output_type": "execute_result"
    }
   ],
   "source": [
    "# rechecking for NaN's\n",
    "players.isna().sum()"
   ]
  },
  {
   "cell_type": "code",
   "execution_count": 504,
   "id": "b6302170-61c4-4618-bdc7-f4b3c601b072",
   "metadata": {
    "tags": []
   },
   "outputs": [],
   "source": [
    "# handling categorical data\n",
    "from sklearn.preprocessing import OneHotEncoder, LabelEncoder\n",
    "ohe = OneHotEncoder(sparse=False)\n",
    "X_categories = ohe.fit_transform(players.loc[:,['club', 'position']])\n",
    "X_categories = pd.DataFrame(X_categories)\n",
    "X_categories.columns = ohe.get_feature_names_out()\n",
    "X_categories = X_categories.iloc[:,:]"
   ]
  },
  {
   "cell_type": "markdown",
   "id": "96ab6a30-c8fb-4764-a4fb-897a29a95e5b",
   "metadata": {},
   "source": [
    "### Feature Selection"
   ]
  },
  {
   "cell_type": "code",
   "execution_count": 505,
   "id": "0da788f6-b986-4e8a-9ba1-2316f9a6dbf1",
   "metadata": {
    "tags": []
   },
   "outputs": [],
   "source": [
    "from sklearn.feature_selection import SelectKBest, f_regression\n",
    "y = players.loc[:, 'market_value']\n",
    "FeatureSelector = SelectKBest(score_func=f_regression, k=20)\n",
    "X_categories_new = FeatureSelector.fit_transform(X_categories, y)\n",
    "X_categories_new = pd.DataFrame(X_categories_new)\n",
    "X_categories_new.columns = FeatureSelector.get_feature_names_out()"
   ]
  },
  {
   "cell_type": "code",
   "execution_count": 506,
   "id": "e0cc727e-afa7-4c16-ba37-e90dc4ce6041",
   "metadata": {
    "tags": []
   },
   "outputs": [
    {
     "data": {
      "image/png": "[encoded data removed]",
      "text/plain": [
       "<Figure size 360x360 with 2 Axes>"
      ]
     },
     "metadata": {},
     "output_type": "display_data"
    }
   ],
   "source": [
    "# correlation between the variables\n",
    "corr = players.corr()\n",
    "_ = sns.heatmap(corr, xticklabels=corr.columns, yticklabels=corr.columns, annot=True,\n",
    "               cmap=sns.diverging_palette(220, 20, as_cmap=True))\n",
    "sns.set(rc={'figure.figsize':(5,5)})"
   ]
  },
  {
   "cell_type": "code",
   "execution_count": 507,
   "id": "8d32ddcd-77a2-42ec-9f4a-b88088ecf5b0",
   "metadata": {},
   "outputs": [],
   "source": [
    "# choosing our features and target variable\n",
    "X = pd.concat([X_categories_new, players.iloc[:, [1, 4, 5, 6]]], axis=1, ignore_index=True).to_numpy()\n",
    "y = players.loc[:,['market_value']].to_numpy()"
   ]
  },
  {
   "cell_type": "code",
   "execution_count": 508,
   "id": "c218aa57-7021-4108-be4b-426bd53895df",
   "metadata": {},
   "outputs": [],
   "source": [
    "# splitting our data into Training set and Test set\n",
    "from sklearn.model_selection import train_test_split\n",
    "X_train, X_test, y_train, y_test = train_test_split(X, y, test_size=0.2, random_state=0)"
   ]
  },
  {
   "cell_type": "code",
   "execution_count": 509,
   "id": "7b0693ed-2d45-444f-acf2-47dcb0a9c87d",
   "metadata": {
    "tags": []
   },
   "outputs": [],
   "source": [
    "# scaling the data\n",
    "# from sklearn.preprocessing import StandardScaler\n",
    "# st_X = StandardScaler()\n",
    "# st_y = StandardScaler()\n",
    "# X_train = st_X.fit_transform(X_train)\n",
    "# y_train = st_y.fit_transform(y_train)\n",
    "# X_test = st_X.transform(X_test)\n",
    "# y_test = st_y.transform(y_test)"
   ]
  },
  {
   "cell_type": "markdown",
   "id": "56090797-4134-4223-bc8b-d6d1e84f04bb",
   "metadata": {},
   "source": [
    "### Multiple Linear Regression"
   ]
  },
  {
   "cell_type": "code",
   "execution_count": 514,
   "id": "4e77c532-99f5-4c41-b26e-11991e01fb4f",
   "metadata": {},
   "outputs": [
    {
     "data": {
      "text/html": [
       "<style>#sk-container-id-31 {color: black;background-color: white;}#sk-container-id-31 pre{padding: 0;}#sk-container-id-31 div.sk-toggleable {background-color: white;}#sk-container-id-31 label.sk-toggleable__label {cursor: pointer;display: block;width: 100%;margin-bottom: 0;padding: 0.3em;box-sizing: border-box;text-align: center;}#sk-container-id-31 label.sk-toggleable__label-arrow:before {content: \"▸\";float: left;margin-right: 0.25em;color: #696969;}#sk-container-id-31 label.sk-toggleable__label-arrow:hover:before {color: black;}#sk-container-id-31 div.sk-estimator:hover label.sk-toggleable__label-arrow:before {color: black;}#sk-container-id-31 div.sk-toggleable__content {max-height: 0;max-width: 0;overflow: hidden;text-align: left;background-color: #f0f8ff;}#sk-container-id-31 div.sk-toggleable__content pre {margin: 0.2em;color: black;border-radius: 0.25em;background-color: #f0f8ff;}#sk-container-id-31 input.sk-toggleable__control:checked~div.sk-toggleable__content {max-height: 200px;max-width: 100%;overflow: auto;}#sk-container-id-31 input.sk-toggleable__control:checked~label.sk-toggleable__label-arrow:before {content: \"▾\";}#sk-container-id-31 div.sk-estimator input.sk-toggleable__control:checked~label.sk-toggleable__label {background-color: #d4ebff;}#sk-container-id-31 div.sk-label input.sk-toggleable__control:checked~label.sk-toggleable__label {background-color: #d4ebff;}#sk-container-id-31 input.sk-hidden--visually {border: 0;clip: rect(1px 1px 1px 1px);clip: rect(1px, 1px, 1px, 1px);height: 1px;margin: -1px;overflow: hidden;padding: 0;position: absolute;width: 1px;}#sk-container-id-31 div.sk-estimator {font-family: monospace;background-color: #f0f8ff;border: 1px dotted black;border-radius: 0.25em;box-sizing: border-box;margin-bottom: 0.5em;}#sk-container-id-31 div.sk-estimator:hover {background-color: #d4ebff;}#sk-container-id-31 div.sk-parallel-item::after {content: \"\";width: 100%;border-bottom: 1px solid gray;flex-grow: 1;}#sk-container-id-31 div.sk-label:hover label.sk-toggleable__label {background-color: #d4ebff;}#sk-container-id-31 div.sk-serial::before {content: \"\";position: absolute;border-left: 1px solid gray;box-sizing: border-box;top: 0;bottom: 0;left: 50%;z-index: 0;}#sk-container-id-31 div.sk-serial {display: flex;flex-direction: column;align-items: center;background-color: white;padding-right: 0.2em;padding-left: 0.2em;position: relative;}#sk-container-id-31 div.sk-item {position: relative;z-index: 1;}#sk-container-id-31 div.sk-parallel {display: flex;align-items: stretch;justify-content: center;background-color: white;position: relative;}#sk-container-id-31 div.sk-item::before, #sk-container-id-31 div.sk-parallel-item::before {content: \"\";position: absolute;border-left: 1px solid gray;box-sizing: border-box;top: 0;bottom: 0;left: 50%;z-index: -1;}#sk-container-id-31 div.sk-parallel-item {display: flex;flex-direction: column;z-index: 1;position: relative;background-color: white;}#sk-container-id-31 div.sk-parallel-item:first-child::after {align-self: flex-end;width: 50%;}#sk-container-id-31 div.sk-parallel-item:last-child::after {align-self: flex-start;width: 50%;}#sk-container-id-31 div.sk-parallel-item:only-child::after {width: 0;}#sk-container-id-31 div.sk-dashed-wrapped {border: 1px dashed gray;margin: 0 0.4em 0.5em 0.4em;box-sizing: border-box;padding-bottom: 0.4em;background-color: white;}#sk-container-id-31 div.sk-label label {font-family: monospace;font-weight: bold;display: inline-block;line-height: 1.2em;}#sk-container-id-31 div.sk-label-container {text-align: center;}#sk-container-id-31 div.sk-container {/* jupyter's `normalize.less` sets `[hidden] { display: none; }` but bootstrap.min.css set `[hidden] { display: none !important; }` so we also need the `!important` here to be able to override the default hidden behavior on the sphinx rendered scikit-learn.org. See: https://github.com/scikit-learn/scikit-learn/issues/21755 */display: inline-block !important;position: relative;}#sk-container-id-31 div.sk-text-repr-fallback {display: none;}</style><div id=\"sk-container-id-31\" class=\"sk-top-container\"><div class=\"sk-text-repr-fallback\"><pre>LinearRegression()</pre><b>In a Jupyter environment, please rerun this cell to show the HTML representation or trust the notebook. <br />On GitHub, the HTML representation is unable to render, please try loading this page with nbviewer.org.</b></div><div class=\"sk-container\" hidden><div class=\"sk-item\"><div class=\"sk-estimator sk-toggleable\"><input class=\"sk-toggleable__control sk-hidden--visually\" id=\"sk-estimator-id-31\" type=\"checkbox\" checked><label for=\"sk-estimator-id-31\" class=\"sk-toggleable__label sk-toggleable__label-arrow\">LinearRegression</label><div class=\"sk-toggleable__content\"><pre>LinearRegression()</pre></div></div></div></div></div>"
      ],
      "text/plain": [
       "LinearRegression()"
      ]
     },
     "execution_count": 514,
     "metadata": {},
     "output_type": "execute_result"
    }
   ],
   "source": [
    "# fitting data to Multiple Linear Regressor\n",
    "from sklearn.linear_model import LinearRegression\n",
    "regressor1 = LinearRegression()\n",
    "regressor1.fit(X_train, y_train)"
   ]
  },
  {
   "cell_type": "code",
   "execution_count": 515,
   "id": "3ff91788-c2eb-4196-b9e0-7727f3b69021",
   "metadata": {},
   "outputs": [
    {
     "data": {
      "text/plain": [
       "4.015017190281885"
      ]
     },
     "execution_count": 515,
     "metadata": {},
     "output_type": "execute_result"
    }
   ],
   "source": [
    "# predicting our Training data\n",
    "y_pred1 = regressor1.predict(X_test)\n",
    "from sklearn.metrics import mean_absolute_error\n",
    "mean_absolute_error(y_test, y_pred1)"
   ]
  },
  {
   "cell_type": "code",
   "execution_count": 516,
   "id": "9d0b9406-22e4-4bd3-adff-bdb8cfb4508b",
   "metadata": {
    "tags": []
   },
   "outputs": [
    {
     "data": {
      "text/plain": [
       "[(array([7.]), array([15.20348741])),\n",
       " (array([7.]), array([5.11125304])),\n",
       " (array([12.]), array([8.61510716])),\n",
       " (array([3.]), array([4.05808575])),\n",
       " (array([22.]), array([20.02550783])),\n",
       " (array([1.5]), array([2.14433469])),\n",
       " (array([18.]), array([15.45089826])),\n",
       " (array([8.]), array([4.6051871])),\n",
       " (array([25.]), array([16.89762852])),\n",
       " (array([20.]), array([12.76380206])),\n",
       " (array([1.]), array([2.36376628])),\n",
       " (array([35.]), array([20.71018718])),\n",
       " (array([0.5]), array([2.75950235])),\n",
       " (array([0.5]), array([0.88023859])),\n",
       " (array([5.]), array([5.03934465])),\n",
       " (array([22.]), array([10.1915713])),\n",
       " (array([5.]), array([8.07684948])),\n",
       " (array([9.]), array([7.81483807])),\n",
       " (array([30.]), array([25.72244059])),\n",
       " (array([6.]), array([2.13818188])),\n",
       " (array([22.]), array([20.02550783])),\n",
       " (array([4.]), array([14.98596934])),\n",
       " (array([15.]), array([17.47955196])),\n",
       " (array([10.]), array([7.08819761])),\n",
       " (array([20.]), array([27.38078427])),\n",
       " (array([9.]), array([10.36430822])),\n",
       " (array([2.5]), array([6.64446222])),\n",
       " (array([1.]), array([4.97596371])),\n",
       " (array([6.]), array([3.53102309])),\n",
       " (array([9.]), array([13.91103595])),\n",
       " (array([18.]), array([16.7270653])),\n",
       " (array([15.]), array([10.33561035])),\n",
       " (array([3.]), array([3.14300432])),\n",
       " (array([1.5]), array([1.68824177])),\n",
       " (array([35.]), array([20.94002297])),\n",
       " (array([24.]), array([19.27530339])),\n",
       " (array([1.5]), array([0.19606226])),\n",
       " (array([7.]), array([8.55377162])),\n",
       " (array([1.5]), array([-0.46785875])),\n",
       " (array([7.]), array([4.7150718])),\n",
       " (array([0.5]), array([-0.27567492])),\n",
       " (array([25.]), array([20.2609602])),\n",
       " (array([5.]), array([7.30436328])),\n",
       " (array([1.5]), array([8.19180923])),\n",
       " (array([9.]), array([11.20280765])),\n",
       " (array([13.]), array([12.01422578])),\n",
       " (array([7.]), array([10.13653613])),\n",
       " (array([18.]), array([8.3208419])),\n",
       " (array([35.]), array([20.37674569])),\n",
       " (array([5.]), array([2.9053408])),\n",
       " (array([0.25]), array([-5.00761342])),\n",
       " (array([0.5]), array([-3.08578457])),\n",
       " (array([2.5]), array([2.53609868])),\n",
       " (array([30.]), array([18.25764991])),\n",
       " (array([0.25]), array([-3.80481735])),\n",
       " (array([1.5]), array([-0.78739201])),\n",
       " (array([2.5]), array([5.06079257])),\n",
       " (array([6.]), array([5.74529749])),\n",
       " (array([5.5]), array([3.47469287])),\n",
       " (array([15.]), array([9.74814806])),\n",
       " (array([2.]), array([9.52565587])),\n",
       " (array([2.]), array([1.05135948])),\n",
       " (array([7.]), array([14.17406361])),\n",
       " (array([6.]), array([5.59092902])),\n",
       " (array([0.75]), array([0.9753844])),\n",
       " (array([1.]), array([-2.38625228])),\n",
       " (array([9.]), array([3.44152229])),\n",
       " (array([0.5]), array([5.35544066])),\n",
       " (array([40.]), array([19.14340205])),\n",
       " (array([13.]), array([13.32147098])),\n",
       " (array([0.65]), array([2.01414191])),\n",
       " (array([3.5]), array([0.79001448])),\n",
       " (array([2.]), array([2.25131745])),\n",
       " (array([5.]), array([2.04279918])),\n",
       " (array([1.5]), array([-5.48148344])),\n",
       " (array([2.5]), array([2.83109248])),\n",
       " (array([10.]), array([7.79647718])),\n",
       " (array([0.5]), array([-4.6304668])),\n",
       " (array([12.]), array([7.77231089])),\n",
       " (array([2.]), array([-0.34869516])),\n",
       " (array([3.5]), array([2.76472943])),\n",
       " (array([4.5]), array([10.90008837])),\n",
       " (array([6.]), array([8.28971562])),\n",
       " (array([4.]), array([4.4615725])),\n",
       " (array([15.]), array([12.96116233])),\n",
       " (array([22.]), array([30.27278689])),\n",
       " (array([10.]), array([19.31169259]))]"
      ]
     },
     "execution_count": 516,
     "metadata": {},
     "output_type": "execute_result"
    }
   ],
   "source": [
    "# comparing actual Test cases with predicted Test cases\n",
    "list(zip(y_test, y_pred1))"
   ]
  },
  {
   "cell_type": "markdown",
   "id": "d062e4fc-e1d4-4ede-bcd1-f482c33c0ef3",
   "metadata": {
    "tags": []
   },
   "source": [
    "##### *Comment - MAE of 4.02 is fine for this dataset. However problem is the presence of negative market value. Therefore this Linear model is not at a good fit.*"
   ]
  },
  {
   "cell_type": "markdown",
   "id": "e6585ae9-a358-4beb-87b4-e22fd7850242",
   "metadata": {},
   "source": [
    "### Random Forest Regression"
   ]
  },
  {
   "cell_type": "code",
   "execution_count": 517,
   "id": "7bc4cafc-8b2f-4346-8695-e7657d5b6cc1",
   "metadata": {},
   "outputs": [
    {
     "data": {
      "text/html": [
       "<style>#sk-container-id-32 {color: black;background-color: white;}#sk-container-id-32 pre{padding: 0;}#sk-container-id-32 div.sk-toggleable {background-color: white;}#sk-container-id-32 label.sk-toggleable__label {cursor: pointer;display: block;width: 100%;margin-bottom: 0;padding: 0.3em;box-sizing: border-box;text-align: center;}#sk-container-id-32 label.sk-toggleable__label-arrow:before {content: \"▸\";float: left;margin-right: 0.25em;color: #696969;}#sk-container-id-32 label.sk-toggleable__label-arrow:hover:before {color: black;}#sk-container-id-32 div.sk-estimator:hover label.sk-toggleable__label-arrow:before {color: black;}#sk-container-id-32 div.sk-toggleable__content {max-height: 0;max-width: 0;overflow: hidden;text-align: left;background-color: #f0f8ff;}#sk-container-id-32 div.sk-toggleable__content pre {margin: 0.2em;color: black;border-radius: 0.25em;background-color: #f0f8ff;}#sk-container-id-32 input.sk-toggleable__control:checked~div.sk-toggleable__content {max-height: 200px;max-width: 100%;overflow: auto;}#sk-container-id-32 input.sk-toggleable__control:checked~label.sk-toggleable__label-arrow:before {content: \"▾\";}#sk-container-id-32 div.sk-estimator input.sk-toggleable__control:checked~label.sk-toggleable__label {background-color: #d4ebff;}#sk-container-id-32 div.sk-label input.sk-toggleable__control:checked~label.sk-toggleable__label {background-color: #d4ebff;}#sk-container-id-32 input.sk-hidden--visually {border: 0;clip: rect(1px 1px 1px 1px);clip: rect(1px, 1px, 1px, 1px);height: 1px;margin: -1px;overflow: hidden;padding: 0;position: absolute;width: 1px;}#sk-container-id-32 div.sk-estimator {font-family: monospace;background-color: #f0f8ff;border: 1px dotted black;border-radius: 0.25em;box-sizing: border-box;margin-bottom: 0.5em;}#sk-container-id-32 div.sk-estimator:hover {background-color: #d4ebff;}#sk-container-id-32 div.sk-parallel-item::after {content: \"\";width: 100%;border-bottom: 1px solid gray;flex-grow: 1;}#sk-container-id-32 div.sk-label:hover label.sk-toggleable__label {background-color: #d4ebff;}#sk-container-id-32 div.sk-serial::before {content: \"\";position: absolute;border-left: 1px solid gray;box-sizing: border-box;top: 0;bottom: 0;left: 50%;z-index: 0;}#sk-container-id-32 div.sk-serial {display: flex;flex-direction: column;align-items: center;background-color: white;padding-right: 0.2em;padding-left: 0.2em;position: relative;}#sk-container-id-32 div.sk-item {position: relative;z-index: 1;}#sk-container-id-32 div.sk-parallel {display: flex;align-items: stretch;justify-content: center;background-color: white;position: relative;}#sk-container-id-32 div.sk-item::before, #sk-container-id-32 div.sk-parallel-item::before {content: \"\";position: absolute;border-left: 1px solid gray;box-sizing: border-box;top: 0;bottom: 0;left: 50%;z-index: -1;}#sk-container-id-32 div.sk-parallel-item {display: flex;flex-direction: column;z-index: 1;position: relative;background-color: white;}#sk-container-id-32 div.sk-parallel-item:first-child::after {align-self: flex-end;width: 50%;}#sk-container-id-32 div.sk-parallel-item:last-child::after {align-self: flex-start;width: 50%;}#sk-container-id-32 div.sk-parallel-item:only-child::after {width: 0;}#sk-container-id-32 div.sk-dashed-wrapped {border: 1px dashed gray;margin: 0 0.4em 0.5em 0.4em;box-sizing: border-box;padding-bottom: 0.4em;background-color: white;}#sk-container-id-32 div.sk-label label {font-family: monospace;font-weight: bold;display: inline-block;line-height: 1.2em;}#sk-container-id-32 div.sk-label-container {text-align: center;}#sk-container-id-32 div.sk-container {/* jupyter's `normalize.less` sets `[hidden] { display: none; }` but bootstrap.min.css set `[hidden] { display: none !important; }` so we also need the `!important` here to be able to override the default hidden behavior on the sphinx rendered scikit-learn.org. See: https://github.com/scikit-learn/scikit-learn/issues/21755 */display: inline-block !important;position: relative;}#sk-container-id-32 div.sk-text-repr-fallback {display: none;}</style><div id=\"sk-container-id-32\" class=\"sk-top-container\"><div class=\"sk-text-repr-fallback\"><pre>RandomForestRegressor(n_estimators=25, random_state=0)</pre><b>In a Jupyter environment, please rerun this cell to show the HTML representation or trust the notebook. <br />On GitHub, the HTML representation is unable to render, please try loading this page with nbviewer.org.</b></div><div class=\"sk-container\" hidden><div class=\"sk-item\"><div class=\"sk-estimator sk-toggleable\"><input class=\"sk-toggleable__control sk-hidden--visually\" id=\"sk-estimator-id-32\" type=\"checkbox\" checked><label for=\"sk-estimator-id-32\" class=\"sk-toggleable__label sk-toggleable__label-arrow\">RandomForestRegressor</label><div class=\"sk-toggleable__content\"><pre>RandomForestRegressor(n_estimators=25, random_state=0)</pre></div></div></div></div></div>"
      ],
      "text/plain": [
       "RandomForestRegressor(n_estimators=25, random_state=0)"
      ]
     },
     "execution_count": 517,
     "metadata": {},
     "output_type": "execute_result"
    }
   ],
   "source": [
    "from sklearn.ensemble import RandomForestRegressor\n",
    "for_regressor = RandomForestRegressor(n_estimators = 25, random_state=0)\n",
    "for_regressor.fit(X_train, y_train.ravel())"
   ]
  },
  {
   "cell_type": "code",
   "execution_count": 518,
   "id": "2be88230-1987-4311-acc1-f3cb512908f9",
   "metadata": {},
   "outputs": [
    {
     "data": {
      "text/plain": [
       "3.4234252873563213"
      ]
     },
     "execution_count": 518,
     "metadata": {},
     "output_type": "execute_result"
    }
   ],
   "source": [
    "y_pred2 = for_regressor.predict(X_test)\n",
    "from sklearn.metrics import mean_absolute_error, mean_squared_error\n",
    "mean_absolute_error(y_test, y_pred2)"
   ]
  },
  {
   "cell_type": "code",
   "execution_count": 519,
   "id": "15bb9d43-7ecb-41f1-9c9a-8b5df959b8b9",
   "metadata": {
    "tags": []
   },
   "outputs": [
    {
     "data": {
      "text/plain": [
       "[(array([7.]), 14.04),\n",
       " (array([7.]), 5.18),\n",
       " (array([12.]), 8.76),\n",
       " (array([3.]), 3.24),\n",
       " (array([22.]), 22.6),\n",
       " (array([1.5]), 3.36),\n",
       " (array([18.]), 12.14),\n",
       " (array([8.]), 4.21),\n",
       " (array([25.]), 9.14),\n",
       " (array([20.]), 16.18),\n",
       " (array([1.]), 4.56),\n",
       " (array([35.]), 19.92),\n",
       " (array([0.5]), 2.94),\n",
       " (array([0.5]), 2.51),\n",
       " (array([5.]), 5.8),\n",
       " (array([22.]), 12.02),\n",
       " (array([5.]), 5.66),\n",
       " (array([9.]), 8.26),\n",
       " (array([30.]), 27.56),\n",
       " (array([6.]), 3.84),\n",
       " (array([22.]), 22.6),\n",
       " (array([4.]), 13.72),\n",
       " (array([15.]), 14.48),\n",
       " (array([10.]), 4.4),\n",
       " (array([20.]), 27.64),\n",
       " (array([9.]), 4.64),\n",
       " (array([2.5]), 10.88),\n",
       " (array([1.]), 0.73),\n",
       " (array([6.]), 5.5),\n",
       " (array([9.]), 14.96),\n",
       " (array([18.]), 18.72),\n",
       " (array([15.]), 12.08),\n",
       " (array([3.]), 4.94),\n",
       " (array([1.5]), 4.66),\n",
       " (array([35.]), 20.52),\n",
       " (array([24.]), 23.2),\n",
       " (array([1.5]), 1.59),\n",
       " (array([7.]), 6.68),\n",
       " (array([1.5]), 1.41),\n",
       " (array([7.]), 3.33),\n",
       " (array([0.5]), 0.35),\n",
       " (array([25.]), 21.64),\n",
       " (array([5.]), 8.56),\n",
       " (array([1.5]), 10.96),\n",
       " (array([9.]), 8.96),\n",
       " (array([13.]), 10.44),\n",
       " (array([7.]), 7.72),\n",
       " (array([18.]), 10.56),\n",
       " (array([35.]), 18.76),\n",
       " (array([5.]), 4.48),\n",
       " (array([0.25]), 1.8619999999999999),\n",
       " (array([0.5]), 1.73),\n",
       " (array([2.5]), 5.96),\n",
       " (array([30.]), 26.92),\n",
       " (array([0.25]), 0.82),\n",
       " (array([1.5]), 2.31),\n",
       " (array([2.5]), 4.66),\n",
       " (array([6.]), 5.46),\n",
       " (array([5.5]), 3.08),\n",
       " (array([15.]), 11.28),\n",
       " (array([2.]), 5.64),\n",
       " (array([2.]), 2.26),\n",
       " (array([7.]), 5.24),\n",
       " (array([6.]), 2.73),\n",
       " (array([0.75]), 1.02),\n",
       " (array([1.]), 1.69),\n",
       " (array([9.]), 5.4),\n",
       " (array([0.5]), 1.79),\n",
       " (array([40.]), 27.04),\n",
       " (array([13.]), 16.84),\n",
       " (array([0.65]), 2.29),\n",
       " (array([3.5]), 4.1),\n",
       " (array([2.]), 2.67),\n",
       " (array([5.]), 5.22),\n",
       " (array([1.5]), 0.76),\n",
       " (array([2.5]), 5.62),\n",
       " (array([10.]), 7.18),\n",
       " (array([0.5]), 1.05),\n",
       " (array([12.]), 8.12),\n",
       " (array([2.]), 2.6820000000000004),\n",
       " (array([3.5]), 6.704),\n",
       " (array([4.5]), 11.0),\n",
       " (array([6.]), 5.6),\n",
       " (array([4.]), 1.24),\n",
       " (array([15.]), 13.92),\n",
       " (array([22.]), 29.76),\n",
       " (array([10.]), 20.24)]"
      ]
     },
     "execution_count": 519,
     "metadata": {},
     "output_type": "execute_result"
    }
   ],
   "source": [
    "# comparing actual Test cases with predicted Test cases\n",
    "list(zip(y_test, y_pred2))"
   ]
  },
  {
   "cell_type": "markdown",
   "id": "51f7e7cf-5dd5-407f-ad01-b94b922da4a7",
   "metadata": {
    "tags": []
   },
   "source": [
    "##### *Comment - MAE of 3.42 is acceptable for this case. This model also overcomes the negative market value issue present in Linear Regression model. Therefore, this model can is acceptable.*"
   ]
  }
 ],
 "metadata": {
  "kernelspec": {
   "display_name": "Python 3 (ipykernel)",
   "language": "python",
   "name": "python3"
  },
  "language_info": {
   "codemirror_mode": {
    "name": "ipython",
    "version": 3
   },
   "file_extension": ".py",
   "mimetype": "text/x-python",
   "name": "python",
   "nbconvert_exporter": "python",
   "pygments_lexer": "ipython3",
   "version": "3.9.12"
  }
 },
 "nbformat": 4,
 "nbformat_minor": 5
}
